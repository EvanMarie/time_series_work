{
 "cells": [
  {
   "cell_type": "markdown",
   "id": "e2689f3c-7010-42c0-903d-e7c33ef27397",
   "metadata": {},
   "source": [
    "<a name='top'></a>\n",
    "\n",
    "---\n",
    "\n",
    "\n",
    "<html>\n",
    "\t<table style=\"width:100%;\">\n",
    "\t\t<tr>\n",
    "\t\t\t<th style = 'background-color: #E1C7C2; padding: 5px 5px 3px 5px; line-height: 1.5; color:black; border-radius: 3px; font-size: 14px; font-weight: 525;'  colspan=\"3\"> |  <a href=\"#link\">Link</a>  |  <a href=\"#link\">Link</a>  |  <a href=\"#link\">Link</a>   |  <a href=\"#link\">Link</a>  |  <a href=\"#link\">Link</a>  |  <a href=\"#link\">Link</a>  |  <a href=\"#link\">Link</a>  |  <a href=\"#link\">Link</a>  |  <a href=\"#link\">Link</a>  |  <a href=\"#link\">Link</a>  |  <a href=\"#link\">Link</a>  |  <a href=\"#link\">Link</a>  |  <a href=\"#link\">Link</a></font></th>\n",
    "\t\t</tr>\n",
    "\t\t<tr>\n",
    "\t\t\t<th style = 'background-color: #DBE5EB; padding: 5px 5px 3px 5px; line-height: 1.5; color:black;border-radius: 3px;' colspan=\"3\"><font size = 7><b>Main Title</b></font></th>\n",
    "\t\t</tr>\n",
    "\t\t<tr>\n",
    "\t\t\t<th style = 'font-size: 22px; background-color: #DBE5EB; padding: 5px 5px 3px 5px; line-height: 1.5; color:black; border-radius: 3px; font-weight: 525;' colspan=\"3\">| <a href=\"#link\">Link</a>   |  <a href=\"#link\">Link</a>  |  <a href=\"#link\">Link</a>   |  </font></font></th>\n",
    "\t\t</tr>\n",
    "\n",
    "\t\t\n",
    "\n",
    "</html>\n",
    "\n"
   ]
  },
  {
   "cell_type": "code",
   "execution_count": 1,
   "id": "afef250c-efff-4147-b36f-3dab880981a5",
   "metadata": {},
   "outputs": [],
   "source": [
    "from helpers import * \n",
    "from sklearn.datasets import load_diabetes\n",
    "import matplotlib as mpl\n",
    "%matplotlib inline\n",
    "plt.style.use('dark_blue_greens.mplstyle')"
   ]
  },
  {
   "cell_type": "markdown",
   "id": "31f44256-ced3-47d4-8b59-10ab7cb5dfd9",
   "metadata": {},
   "source": [
    "<a name = ''></a>\n",
    "\n",
    "---\n",
    "\n",
    "\n",
    "<html>\n",
    "\t<table style=\"width:100%;\">\n",
    "\t\t<tr>\n",
    "\t\t\t<th style = 'background-color: #E1C7C2; padding: 5px 5px 3px 5px; line-height: 1.5; color:black; border-radius: 3px; font-size: 14px; font-weight: 475;'  colspan=\"3\"> |  <a href=\"#link\">Link</a>  |  <a href=\"#link\">Link</a>  |  <a href=\"#link\">Link</a>   |  <a href=\"#link\">Link</a>  |  <a href=\"#link\">Link</a>  |  <a href=\"#link\">Link</a>  |  <a href=\"#link\">Link</a>  |  <a href=\"#link\">Link</a>  |  <a href=\"#link\">Link</a>  |  <a href=\"#link\">Link</a>  |  <a href=\"#link\">Link</a>  |  <a href=\"#link\">Link</a>  |  <a href=\"#link\">Link</a></font></th>\n",
    "\t\t</tr>\n",
    "\t\t<tr>\n",
    "\t\t\t<th style = 'background-color: #3D5F74; padding: 5px 5px 3px 5px; line-height: 1.5; color:white;border-radius: 3px;' colspan=\"3\"><font size = 6>Section Title</font></th>\n",
    "\t\t</tr>\n",
    "\t</table>\n",
    "</html>"
   ]
  },
  {
   "cell_type": "code",
   "execution_count": null,
   "id": "a21ab203-4001-4a73-b6aa-d721a59583e0",
   "metadata": {},
   "outputs": [],
   "source": []
  },
  {
   "cell_type": "markdown",
   "id": "de9bd691-6659-4acb-9982-5a8da250c34f",
   "metadata": {},
   "source": [
    "<html>\n",
    "\t<table style=\"width:100%;\">\n",
    "\t\t<tr>\n",
    "\t\t\t<th style = 'font-size: 17px; font-weight: 525; background-color: #E1C7C2; padding: 3px 3px 2px 3px; line-height: 1.5; color:black;border-radius: 3px;' colspan=\"3\">Topic</font></th>\n",
    "\t\t</tr>\n",
    "\t</table>\n",
    "</html>"
   ]
  },
  {
   "cell_type": "code",
   "execution_count": null,
   "id": "970c06ae-23b4-4c6d-a96e-09ab1a495478",
   "metadata": {},
   "outputs": [],
   "source": []
  },
  {
   "cell_type": "markdown",
   "id": "a58cd64d-a624-4111-b5eb-2a31aa9e4252",
   "metadata": {},
   "source": [
    "<html>\n",
    "\t<table style=\"width:100%;\">\n",
    "\t\t<tr>\n",
    "\t\t\t<th style = 'font-size: 20px; font-weight: 525; background-color: #DBE5EB; padding: 5px 5px 3px 5px; line-height: 1.5; color:black;border-radius: 3px;' colspan=\"3\">Strong Topic</font></th>\n",
    "\t\t</tr>\n",
    "\t</table>\n",
    "</html>"
   ]
  },
  {
   "cell_type": "code",
   "execution_count": null,
   "id": "8a9da432-fac4-4685-9256-7d111e07e42d",
   "metadata": {},
   "outputs": [],
   "source": []
  }
 ],
 "metadata": {
  "kernelspec": {
   "display_name": "Python 3 (ipykernel)",
   "language": "python",
   "name": "python3"
  },
  "language_info": {
   "codemirror_mode": {
    "name": "ipython",
    "version": 3
   },
   "file_extension": ".py",
   "mimetype": "text/x-python",
   "name": "python",
   "nbconvert_exporter": "python",
   "pygments_lexer": "ipython3",
   "version": "3.10.9"
  }
 },
 "nbformat": 4,
 "nbformat_minor": 5
}
