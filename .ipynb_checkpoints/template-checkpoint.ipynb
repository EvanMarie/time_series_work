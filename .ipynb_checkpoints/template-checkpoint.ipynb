{
 "cells": [
  {
   "cell_type": "markdown",
   "id": "e2689f3c-7010-42c0-903d-e7c33ef27397",
   "metadata": {},
   "source": [
    "<a name='top'></a>\n",
    "\n",
    "---\n",
    "\n",
    "**Sections:  ●  [Top](#top)   ●  [The Data](#data)  ●  [SciKit-Learn Way](#scikit_learn)  ●  [SKTime Way](#sktime)  ●  [LINK](#link)  ●  [LINK](#link)   ●  [LINK](#link)   ●  [LINK](#link)   ●  [LINK](#link)   ●  [LINK](#link)   ●  [LINK](#link)   ●  [LINK](#link)   ●  [LINK](#link)**\n",
    "\n",
    "---\n",
    "\n",
    "<font size = 7><span style = 'background-color: #E1C7C2; padding: 5px 5px 3px 5px; line-height: 1.5; color:black;border-radius: 3px;'> **Main Title** [[Main Link]]()</font></span>\n",
    "<br>\n",
    "<font size = 5> | [**Link**](link)  |  [**Link**](link) | </font>\n"
   ]
  },
  {
   "cell_type": "code",
   "execution_count": null,
   "id": "afef250c-efff-4147-b36f-3dab880981a5",
   "metadata": {},
   "outputs": [],
   "source": [
    "from helpers import * \n",
    "from sklearn.datasets import load_diabetes\n",
    "import matplotlib as mpl\n",
    "%matplotlib inline\n",
    "plt.style.use('dark_blue_greens.mplstyle')"
   ]
  },
  {
   "cell_type": "markdown",
   "id": "15878648-5092-4311-ba3a-9fcc8f304230",
   "metadata": {},
   "source": [
    "<a name = ''></a>\n",
    "\n",
    "---\n",
    "\n",
    "**Sections:  ●  [LINK](#link)   ●  [LINK](#link)   ●  [LINK](#link)  ●  [LINK](#link)   ●  [LINK](#link)   ●  [LINK](#link)   ●  [LINK](#link)   ●  [LINK](#link)  ●  [LINK](#link)   ●  [LINK](#link)   ●  [LINK](#link)  ●  [LINK](#link)   ●  [LINK](#link)   ●  [LINK](#link)**\n",
    "\n",
    "---\n",
    "\n",
    "<font size = 6><span style = 'background-color: #3D5F74; padding: 5px 5px 3px 5px; line-height: 1.5; color:white;border-radius: 3px;'>**Main Section**\n",
    "\t"
   ]
  },
  {
   "cell_type": "code",
   "execution_count": null,
   "id": "a64a0e44-a151-4047-abfb-ec4b83cdf849",
   "metadata": {},
   "outputs": [],
   "source": []
  },
  {
   "cell_type": "markdown",
   "id": "92cf3681-b2df-4cd2-b58e-4936085bb38a",
   "metadata": {},
   "source": [
    "<font size = 4><span style = 'background-color: #E1C7C2; padding: 5px 5px 3px 5px; line-height: 1.5; color:black;border-radius: 3px;'>**Topic**"
   ]
  },
  {
   "cell_type": "code",
   "execution_count": null,
   "id": "d8c11130-beda-4a64-899b-2f91a7e065b7",
   "metadata": {},
   "outputs": [],
   "source": []
  },
  {
   "cell_type": "markdown",
   "id": "c47231fa-24a2-4451-894e-cbc2a3c0ef5e",
   "metadata": {},
   "source": [
    "<font size = 5><span style = 'background-color: #DBE5EB; padding: 5px 5px 3px 5px; line-height: 1.5; color:black;border-radius: 3px;'>**Strong Topic**"
   ]
  },
  {
   "cell_type": "code",
   "execution_count": null,
   "id": "68df6be9-0fd2-4903-acf9-e839ba7c0222",
   "metadata": {},
   "outputs": [],
   "source": []
  }
 ],
 "metadata": {
  "kernelspec": {
   "display_name": "Python 3 (ipykernel)",
   "language": "python",
   "name": "python3"
  },
  "language_info": {
   "codemirror_mode": {
    "name": "ipython",
    "version": 3
   },
   "file_extension": ".py",
   "mimetype": "text/x-python",
   "name": "python",
   "nbconvert_exporter": "python",
   "pygments_lexer": "ipython3",
   "version": "3.10.9"
  }
 },
 "nbformat": 4,
 "nbformat_minor": 5
}
