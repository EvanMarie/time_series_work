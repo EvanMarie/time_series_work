{
 "cells": [
  {
   "cell_type": "markdown",
   "id": "ed22041e-6067-4b9d-9925-9882952eb150",
   "metadata": {},
   "source": [
    "<a name=''></a>\n",
    "\n",
    "---\n",
    "\n",
    "**Sections:**  ●  [LINK](#link)  ●  [LINK](#link)  ●  [LINK](#link)  ●  [LINK](#link)  ●  [LINK](#link)   ●  [LINK](#link)   ●  [LINK](#link)   ●  [LINK](#link)   ●  [LINK](#link)   ●  [LINK](#link)   ●  [LINK](#link)   ●  [LINK](#link)   ●  [LINK](#link)   ●  [LINK](#link)\n",
    "\n",
    "---\n"
   ]
  },
  {
   "cell_type": "markdown",
   "id": "4a24b847-3ec5-49ef-b03d-75f73467496f",
   "metadata": {},
   "source": [
    "<a name=\"top\"></a>\n",
    "\n",
    "# Title [[source]]()\n",
    "<br>\n",
    "<font size = 5>\n",
    "\n",
    "| [Link](link)  |  [Link](link) | </font>\n",
    "\n",
    "\n",
    "\n",
    "**Evan Marie online**:\n",
    "[EvanMarie@Proton.me](mailto:evanmarie@proton.me)  |  [Linked In](https://www.linkedin.com/in/evanmarie/)  |  [GitHub](https://github.com/EvanMarie)  |  [Hugging Face](https://huggingface.co/EvanMarie)  |  [Mastadon](https://sigmoid.social/@EvanMarie)  |\n",
    "[Jovian.ai](https://jovian.ai/evanmarie)  |  [TikTok](https://www.tiktok.com/@evanmarie_123)  |  [CodeWars](https://www.codewars.com/users/EvanMarie)  |  Discord ⇨ ✨ EvanMarie ✨#6114\n",
    "\n",
    "<br>\n",
    "\n",
    "\n",
    "|<font size = 6>Contents:</font>|   |   |   |\n",
    "|---|---|---|---|\n",
    "|<font size = 4>\n",
    "|[LINK](#link) |  |  [LINK](#link)  |   |\n",
    "|[LINK](#link)  |  |  [LINK](#link)  |   |\n",
    "|[LINK](#link)  |  |  [LINK](#link)  |   |\n",
    "|[LINK](#link) |  |  [LINK](#link)  |   |\n",
    "|[LINK](#link)  |  |  [LINK](#link)  |   |\n",
    "|[LINK](#link)  |  |  [LINK](#link)  |   |"
   ]
  },
  {
   "cell_type": "markdown",
   "id": "44007a4a-0878-4150-bcaa-b0d29e019517",
   "metadata": {
    "tags": []
   },
   "source": [
    "<a name=''></a>\n",
    "\n",
    "---\n",
    "\n",
    "**Sections:**  ●  [LINK](#link)  ●  [LINK](#link)  ●  [LINK](#link)  ●  [LINK](#link)  ●  [LINK](#link)   ●  [LINK](#link)   ●  [LINK](#link)   ●  [LINK](#link)   ●  [LINK](#link)   ●  [LINK](#link)   ●  [LINK](#link)   ●  [LINK](#link)   ●  [LINK](#link)   ●  [LINK](#link)\n",
    "\n",
    "---\n",
    "\n",
    "<span style = 'background-color: purple; padding: 5px 5px 3px 5px; line-height: 1.5; color:white;border-radius: 3px;'><font size = 4>label</font></span>"
   ]
  },
  {
   "cell_type": "code",
   "execution_count": null,
   "id": "3754f5b8-86ea-4f38-8f15-4d046d014abd",
   "metadata": {},
   "outputs": [],
   "source": [
    "import_all()"
   ]
  },
  {
   "cell_type": "markdown",
   "id": "e8bab160-b50a-4644-95d9-f8638b2dfb9f",
   "metadata": {},
   "source": [
    "<font size = 4><span style = 'background-color: #ddddff; padding: 5px 5px 3px 5px; line-height: 1.5; color:black;border-radius: 3px;'>Text"
   ]
  },
  {
   "cell_type": "code",
   "execution_count": null,
   "id": "0083c27b-d878-4da8-9d8e-047d2c745698",
   "metadata": {},
   "outputs": [],
   "source": []
  },
  {
   "cell_type": "markdown",
   "id": "132c7a47-9869-4c54-b3ab-d1c023722ab9",
   "metadata": {},
   "source": [
    "<font size = 4><span style = 'background-color: #ddddff; padding: 5px 5px 3px 5px; line-height: 1.5; color:black;border-radius: 3px;'>Text"
   ]
  },
  {
   "cell_type": "code",
   "execution_count": null,
   "id": "5c9fc022-6923-4ec8-89b1-eb781dc86899",
   "metadata": {},
   "outputs": [],
   "source": []
  },
  {
   "cell_type": "markdown",
   "id": "6b872da6-6670-4985-8d71-50bd1b9ec363",
   "metadata": {},
   "source": [
    "<font size = 4><span style = 'background-color: #ddddff; padding: 5px 5px 3px 5px; line-height: 1.5; color:black;border-radius: 3px;'>Text"
   ]
  },
  {
   "cell_type": "code",
   "execution_count": null,
   "id": "91414a42-a025-4451-9e2c-1bc140cd68db",
   "metadata": {},
   "outputs": [],
   "source": []
  },
  {
   "cell_type": "markdown",
   "id": "cbec844f-9b02-4ffa-bd56-56ded35e47f2",
   "metadata": {},
   "source": [
    "<font size = 4><span style = 'background-color: #ddddff; padding: 5px 5px 3px 5px; line-height: 1.5; color:black;border-radius: 3px;'>Text"
   ]
  },
  {
   "cell_type": "code",
   "execution_count": null,
   "id": "48c0df42-b32a-41ce-92d8-fd9411821687",
   "metadata": {},
   "outputs": [],
   "source": []
  },
  {
   "cell_type": "markdown",
   "id": "7277ad65-a80e-448e-93d6-029ba928df3b",
   "metadata": {},
   "source": [
    "<font size = 4><span style = 'background-color: #ddddff; padding: 5px 5px 3px 5px; line-height: 1.5; color:black;border-radius: 3px;'>Text"
   ]
  },
  {
   "cell_type": "code",
   "execution_count": null,
   "id": "6cfc9faa-49ee-412d-9bef-017ce6228976",
   "metadata": {},
   "outputs": [],
   "source": []
  },
  {
   "cell_type": "markdown",
   "id": "3bf63fd0-9334-442b-99f8-177ac121c964",
   "metadata": {},
   "source": [
    "<font size = 4><span style = 'background-color: #ddddff; padding: 5px 5px 3px 5px; line-height: 1.5; color:black;border-radius: 3px;'>Text"
   ]
  },
  {
   "cell_type": "code",
   "execution_count": null,
   "id": "5898eade-a373-4560-ae65-693e5f99ab7f",
   "metadata": {},
   "outputs": [],
   "source": []
  },
  {
   "cell_type": "markdown",
   "id": "01a6bd07-8e2a-49ea-bb0c-99bd0f408414",
   "metadata": {},
   "source": [
    "<font size = 4><span style = 'background-color: #ddddff; padding: 5px 5px 3px 5px; line-height: 1.5; color:black;border-radius: 3px;'>Text"
   ]
  },
  {
   "cell_type": "code",
   "execution_count": null,
   "id": "252687a9-ce28-42ed-ad53-0a7da6940a52",
   "metadata": {},
   "outputs": [],
   "source": []
  },
  {
   "cell_type": "markdown",
   "id": "e88b8b17-4e01-4cfd-ba2a-25f7ce556d3d",
   "metadata": {},
   "source": [
    "<font size = 4><span style = 'background-color: #ddddff; padding: 5px 5px 3px 5px; line-height: 1.5; color:black;border-radius: 3px;'>Text"
   ]
  },
  {
   "cell_type": "code",
   "execution_count": null,
   "id": "6a765ef4-1e7d-4bcc-99bd-076929939fb0",
   "metadata": {},
   "outputs": [],
   "source": []
  },
  {
   "cell_type": "markdown",
   "id": "3a667fb0-5fe7-41a8-8549-fbee937ca33e",
   "metadata": {},
   "source": [
    "<font size = 4><span style = 'background-color: #ddddff; padding: 5px 5px 3px 5px; line-height: 1.5; color:black;border-radius: 3px;'>Text"
   ]
  },
  {
   "cell_type": "code",
   "execution_count": null,
   "id": "2a09742f-c56e-414a-9c86-0845918a5611",
   "metadata": {},
   "outputs": [],
   "source": []
  },
  {
   "cell_type": "markdown",
   "id": "a51b2302-e661-4009-8ade-b4c9fa93747d",
   "metadata": {},
   "source": [
    "<font size = 4><span style = 'background-color: #ddddff; padding: 5px 5px 3px 5px; line-height: 1.5; color:black;border-radius: 3px;'>Text"
   ]
  },
  {
   "cell_type": "code",
   "execution_count": null,
   "id": "065e4e6c-6967-4ed1-a236-ea36e13410b8",
   "metadata": {},
   "outputs": [],
   "source": []
  },
  {
   "cell_type": "markdown",
   "id": "53dcb1ce-0647-423f-afac-8af9d526cfb7",
   "metadata": {
    "tags": []
   },
   "source": [
    "<a name=''></a>\n",
    "\n",
    "---\n",
    "\n",
    "**Sections:**  ●  [LINK](#link)  ●  [LINK](#link)  ●  [LINK](#link)  ●  [LINK](#link)  ●  [LINK](#link)   ●  [LINK](#link)   ●  [LINK](#link)   ●  [LINK](#link)   ●  [LINK](#link)   ●  [LINK](#link)   ●  [LINK](#link)   ●  [LINK](#link)   ●  [LINK](#link)   ●  [LINK](#link)\n",
    "\n",
    "---\n",
    "\n",
    "<span style = 'background-color: purple; padding: 5px 5px 3px 5px; line-height: 1.5; color:white;border-radius: 3px;'><font size = 4>label</font></span>"
   ]
  },
  {
   "cell_type": "code",
   "execution_count": null,
   "id": "661ad409-3f5a-4b82-9436-a40c1ee3d548",
   "metadata": {},
   "outputs": [],
   "source": [
    "import_all()"
   ]
  },
  {
   "cell_type": "markdown",
   "id": "7320b38d-7381-4247-8fe9-6cb519db3b5d",
   "metadata": {},
   "source": [
    "<font size = 4><span style = 'background-color: #ddddff; padding: 5px 5px 3px 5px; line-height: 1.5; color:black;border-radius: 3px;'>Text"
   ]
  },
  {
   "cell_type": "code",
   "execution_count": null,
   "id": "59d58d78-1fe1-48f9-a893-65c4db44d556",
   "metadata": {},
   "outputs": [],
   "source": []
  },
  {
   "cell_type": "markdown",
   "id": "8c9742fd-3ca1-4f59-8d7b-7ef71d5a2c62",
   "metadata": {},
   "source": [
    "<font size = 4><span style = 'background-color: #ddddff; padding: 5px 5px 3px 5px; line-height: 1.5; color:black;border-radius: 3px;'>Text"
   ]
  },
  {
   "cell_type": "code",
   "execution_count": null,
   "id": "74f48240-be4c-4b38-9846-7d85e90c8daf",
   "metadata": {},
   "outputs": [],
   "source": []
  },
  {
   "cell_type": "markdown",
   "id": "5d5410af-86cc-42e3-90e9-1f68bea36526",
   "metadata": {},
   "source": [
    "<font size = 4><span style = 'background-color: #ddddff; padding: 5px 5px 3px 5px; line-height: 1.5; color:black;border-radius: 3px;'>Text"
   ]
  },
  {
   "cell_type": "code",
   "execution_count": null,
   "id": "075aa7f0-7cda-4046-8c31-1478d4f6ed93",
   "metadata": {},
   "outputs": [],
   "source": []
  },
  {
   "cell_type": "markdown",
   "id": "145f6887-4851-4ca3-a392-cbb5e8fd766e",
   "metadata": {},
   "source": [
    "<font size = 4><span style = 'background-color: #ddddff; padding: 5px 5px 3px 5px; line-height: 1.5; color:black;border-radius: 3px;'>Text"
   ]
  },
  {
   "cell_type": "code",
   "execution_count": null,
   "id": "5ba886de-42d2-4b3d-b248-76d655a8b536",
   "metadata": {},
   "outputs": [],
   "source": []
  },
  {
   "cell_type": "markdown",
   "id": "de180f9c-c60b-43ed-8f24-cb9135e9353f",
   "metadata": {},
   "source": [
    "<font size = 4><span style = 'background-color: #ddddff; padding: 5px 5px 3px 5px; line-height: 1.5; color:black;border-radius: 3px;'>Text"
   ]
  },
  {
   "cell_type": "code",
   "execution_count": null,
   "id": "8687607e-69c1-4107-8dd6-74423a2c1e33",
   "metadata": {},
   "outputs": [],
   "source": []
  },
  {
   "cell_type": "markdown",
   "id": "8f3a2034-c7b0-46ff-8a97-14f3881b973e",
   "metadata": {},
   "source": [
    "<font size = 4><span style = 'background-color: #ddddff; padding: 5px 5px 3px 5px; line-height: 1.5; color:black;border-radius: 3px;'>Text"
   ]
  },
  {
   "cell_type": "code",
   "execution_count": null,
   "id": "bae90f22-9eab-4f77-851a-b9386ba339cb",
   "metadata": {},
   "outputs": [],
   "source": []
  },
  {
   "cell_type": "markdown",
   "id": "3edcb546-aca2-41c3-b6f3-3b737e95ae61",
   "metadata": {},
   "source": [
    "<font size = 4><span style = 'background-color: #ddddff; padding: 5px 5px 3px 5px; line-height: 1.5; color:black;border-radius: 3px;'>Text"
   ]
  },
  {
   "cell_type": "code",
   "execution_count": null,
   "id": "b2a530ce-65e7-403e-a573-836cae9e052f",
   "metadata": {},
   "outputs": [],
   "source": []
  },
  {
   "cell_type": "markdown",
   "id": "0347276e-874e-43bf-aa7d-a9e3ac542654",
   "metadata": {
    "tags": []
   },
   "source": [
    "<a name=''></a>\n",
    "\n",
    "---\n",
    "\n",
    "**Sections:**  ●  [LINK](#link)  ●  [LINK](#link)  ●  [LINK](#link)  ●  [LINK](#link)  ●  [LINK](#link)   ●  [LINK](#link)   ●  [LINK](#link)   ●  [LINK](#link)   ●  [LINK](#link)   ●  [LINK](#link)   ●  [LINK](#link)   ●  [LINK](#link)   ●  [LINK](#link)   ●  [LINK](#link)\n",
    "\n",
    "---\n",
    "\n",
    "<span style = 'background-color: purple; padding: 5px 5px 3px 5px; line-height: 1.5; color:white;border-radius: 3px;'><font size = 4>label</font></span>"
   ]
  },
  {
   "cell_type": "code",
   "execution_count": null,
   "id": "ecda0e54-09d2-47bd-a4ff-d868b8a9666e",
   "metadata": {},
   "outputs": [],
   "source": [
    "import_all()"
   ]
  },
  {
   "cell_type": "markdown",
   "id": "ff3ed35a-c024-479b-80f8-84607f6ede4c",
   "metadata": {},
   "source": [
    "<font size = 4><span style = 'background-color: #ddddff; padding: 5px 5px 3px 5px; line-height: 1.5; color:black;border-radius: 3px;'>Text"
   ]
  },
  {
   "cell_type": "code",
   "execution_count": null,
   "id": "7448f2e3-2620-44a9-9cfa-ae003843fd72",
   "metadata": {},
   "outputs": [],
   "source": []
  },
  {
   "cell_type": "markdown",
   "id": "fa8d82a6-ce78-4365-a0eb-ae1b0a14b1ac",
   "metadata": {},
   "source": [
    "<font size = 4><span style = 'background-color: #ddddff; padding: 5px 5px 3px 5px; line-height: 1.5; color:black;border-radius: 3px;'>Text"
   ]
  },
  {
   "cell_type": "code",
   "execution_count": null,
   "id": "1f26c2c8-ea65-4f4c-978b-67cb59b83e9c",
   "metadata": {},
   "outputs": [],
   "source": []
  },
  {
   "cell_type": "markdown",
   "id": "69cf6176-6443-48ef-862a-d7bdd1e56fb7",
   "metadata": {},
   "source": [
    "<font size = 4><span style = 'background-color: #ddddff; padding: 5px 5px 3px 5px; line-height: 1.5; color:black;border-radius: 3px;'>Text"
   ]
  },
  {
   "cell_type": "code",
   "execution_count": null,
   "id": "c7006391-85f6-4743-b3f3-2f24cf066b09",
   "metadata": {},
   "outputs": [],
   "source": []
  },
  {
   "cell_type": "markdown",
   "id": "1b6b7876-7351-4882-ae4b-d265618ccbf6",
   "metadata": {},
   "source": [
    "<font size = 4><span style = 'background-color: #ddddff; padding: 5px 5px 3px 5px; line-height: 1.5; color:black;border-radius: 3px;'>Text"
   ]
  },
  {
   "cell_type": "code",
   "execution_count": null,
   "id": "c21c3e0b-2258-4690-93bc-02bd19cef186",
   "metadata": {},
   "outputs": [],
   "source": []
  },
  {
   "cell_type": "markdown",
   "id": "925bdcb1-be68-4c79-95f9-d11d3043452b",
   "metadata": {},
   "source": [
    "<font size = 4><span style = 'background-color: #ddddff; padding: 5px 5px 3px 5px; line-height: 1.5; color:black;border-radius: 3px;'>Text"
   ]
  },
  {
   "cell_type": "code",
   "execution_count": null,
   "id": "2bc9efe1-a8a8-4242-8ed4-740fd46361a9",
   "metadata": {},
   "outputs": [],
   "source": []
  },
  {
   "cell_type": "markdown",
   "id": "03058019-3d29-49a7-9294-f69255d71109",
   "metadata": {},
   "source": [
    "<font size = 4><span style = 'background-color: #ddddff; padding: 5px 5px 3px 5px; line-height: 1.5; color:black;border-radius: 3px;'>Text"
   ]
  },
  {
   "cell_type": "code",
   "execution_count": null,
   "id": "5d3f4490-f093-447f-bee8-8e281340b862",
   "metadata": {},
   "outputs": [],
   "source": []
  },
  {
   "cell_type": "markdown",
   "id": "5e0fd389-54de-4fb8-9ace-c1f5448eaa2b",
   "metadata": {},
   "source": [
    "<font size = 4><span style = 'background-color: #ddddff; padding: 5px 5px 3px 5px; line-height: 1.5; color:black;border-radius: 3px;'>Text"
   ]
  },
  {
   "cell_type": "code",
   "execution_count": null,
   "id": "b045e501-fc91-4201-8bc0-a9931e9c85e7",
   "metadata": {},
   "outputs": [],
   "source": []
  }
 ],
 "metadata": {
  "kernelspec": {
   "display_name": "Python 3 (ipykernel)",
   "language": "python",
   "name": "python3"
  },
  "language_info": {
   "codemirror_mode": {
    "name": "ipython",
    "version": 3
   },
   "file_extension": ".py",
   "mimetype": "text/x-python",
   "name": "python",
   "nbconvert_exporter": "python",
   "pygments_lexer": "ipython3",
   "version": "3.10.4"
  }
 },
 "nbformat": 4,
 "nbformat_minor": 5
}
